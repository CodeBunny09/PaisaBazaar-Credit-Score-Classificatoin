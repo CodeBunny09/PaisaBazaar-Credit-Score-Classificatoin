


# Basic Libraries
import pandas as pd
import numpy as np

# Visualization Libraries
import matplotlib.pyplot as plt
import seaborn as sns
import plotly.express as px

# Modeling and Evaluation
from sklearn.model_selection import train_test_split
from sklearn.preprocessing import LabelEncoder, StandardScaler
from sklearn.ensemble import RandomForestClassifier
from sklearn.metrics import classification_report, confusion_matrix, accuracy_score

# Ignore warnings for clean output
import warnings
warnings.filterwarnings('ignore')


# Load the dataset
df = pd.read_csv("dataset-2.csv")  # Change path if needed


# First few records
df.head()


# Last few records
df.tail()


# Dataset info
df.info()


# Summary statistics
df.describe(include='all')



